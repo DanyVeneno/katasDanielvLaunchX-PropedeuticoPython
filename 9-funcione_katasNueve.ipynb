{
 "cells": [
  {
   "cell_type": "markdown",
   "metadata": {},
   "source": [
    "# EjetrcicioUno"
   ]
  },
  {
   "cell_type": "code",
   "execution_count": 3,
   "metadata": {},
   "outputs": [],
   "source": [
    "def lecturaDeCombustible(tanqueUno,tanque2,tanqueTres):\n",
    "    nivelDeCombustible = (tanqueUno + tanque2 + tanqueTres) / 3\n",
    "    return f\"\"\" Reporte De Niveles:\n",
    "    Nivel De Combustible:{nivelDeCombustible}%\n",
    "    Tanque Uno:{tanqueUno}%\n",
    "    Tanque Dos:{tanque2}%\n",
    "    Tanque Tres:{tanqueTres}%  \n",
    "    \"\"\""
   ]
  },
  {
   "cell_type": "code",
   "execution_count": 4,
   "metadata": {},
   "outputs": [
    {
     "name": "stdout",
     "output_type": "stream",
     "text": [
      " Reporte De Niveles:\n",
      "    Nivel De Combustible:63.333333333333336%\n",
      "    Tanque Uno:50%\n",
      "    Tanque Dos:50%\n",
      "    Tanque Tres:90%  \n",
      "    \n"
     ]
    }
   ],
   "source": [
    "print(lecturaDeCombustible(50,50,90))"
   ]
  },
  {
   "cell_type": "code",
   "execution_count": 194,
   "metadata": {},
   "outputs": [],
   "source": [
    "def resultadoProm(tanqueUno,tanque2,tanqueTres):\n",
    "    promedio = sum(50,50,90)\n",
    "    numero_de_tanques = len('tanqueUno','tanque2','tanqueTres')\n",
    "    return promedio / numero_de_tanques\n",
    "\n",
    "    "
   ]
  },
  {
   "cell_type": "markdown",
   "metadata": {},
   "source": [
    "# Aqui me atore "
   ]
  },
  {
   "cell_type": "code",
   "execution_count": 195,
   "metadata": {},
   "outputs": [
    {
     "ename": "TypeError",
     "evalue": "resultadoProm() missing 3 required positional arguments: 'tanqueUno', 'tanque2', and 'tanqueTres'",
     "output_type": "error",
     "traceback": [
      "\u001b[1;31m---------------------------------------------------------------------------\u001b[0m",
      "\u001b[1;31mTypeError\u001b[0m                                 Traceback (most recent call last)",
      "\u001b[1;32mc:\\Users\\Daniel\\Desktop\\katasNueve.ipynb Cell 6'\u001b[0m in \u001b[0;36m<module>\u001b[1;34m\u001b[0m\n\u001b[1;32m----> <a href='vscode-notebook-cell:/c%3A/Users/Daniel/Desktop/katasNueve.ipynb#ch0000028?line=0'>1</a>\u001b[0m resultadoProm()\n",
      "\u001b[1;31mTypeError\u001b[0m: resultadoProm() missing 3 required positional arguments: 'tanqueUno', 'tanque2', and 'tanqueTres'"
     ]
    }
   ],
   "source": [
    "resultadoProm()"
   ]
  },
  {
   "cell_type": "markdown",
   "metadata": {},
   "source": [
    "# EjercicioDos"
   ]
  },
  {
   "cell_type": "code",
   "execution_count": 180,
   "metadata": {},
   "outputs": [
    {
     "name": "stdout",
     "output_type": "stream",
     "text": [
      "\n",
      "    Mission to Moon\n",
      "    Total travel time: 65 minutos\n",
      "    Total fuel left: 500000 galones\n",
      "    \n"
     ]
    }
   ],
   "source": [
    "def reporteGeneral(prelanzamiento,tiempodeVuelo, destino, tanqueExterno, tanqueInteno):\n",
    "    return f\"\"\"\n",
    "    Mission to {destino}\n",
    "    Total travel time: {prelanzamiento + tiempodeVuelo} minutos\n",
    "    Total fuel left: {tanqueExterno + tanqueInteno} galones\n",
    "    \"\"\"\n",
    "\n",
    "print(reporteGeneral(14, 51, \"Moon\", 200000, 300000))"
   ]
  },
  {
   "cell_type": "code",
   "execution_count": null,
   "metadata": {},
   "outputs": [],
   "source": [
    "def reporteGeneral(destino, *minutos, **reserva):\n",
    "    return f\"\"\"\n",
    "    Mission to {destino}\n",
    "    Total travel time: {sum(minutos)} minutos\n",
    "    Total fuel left: {sum(reserva.values())}\n",
    "    \"\"\"\n",
    "\n",
    "print(reporteGeneral(\"Moon\", 10, 15, 51, main=300000, external=200000))"
   ]
  },
  {
   "cell_type": "code",
   "execution_count": 187,
   "metadata": {},
   "outputs": [
    {
     "name": "stdout",
     "output_type": "stream",
     "text": [
      "\n",
      "    Misión a la Luna\n",
      "    Total travel time: 76 minutos\n",
      "    Total fuel left: 500000\n",
      "    \n"
     ]
    }
   ],
   "source": [
    "def reporteGeneral(destino, *minutos, **reservas):\n",
    "    return f\"\"\"\n",
    "    Misión a la {destino}\n",
    "    Total travel time: {sum(minutos)} minutos\n",
    "    Total fuel left: {sum(reservas.values())}\n",
    "    \"\"\"\n",
    "\n",
    "print(reporteGeneral(\"Luna\", 10, 15, 51, main=300000, external=200000))"
   ]
  },
  {
   "cell_type": "code",
   "execution_count": 190,
   "metadata": {},
   "outputs": [
    {
     "name": "stdout",
     "output_type": "stream",
     "text": [
      "\n",
      "    Mission to Moon\n",
      "    Total travel time: 74 minutes\n",
      "    Total fuel left: 500000\n",
      "    main tank --> 300000 gallons left\n",
      "external tank --> 200000 gallons left\n",
      "\n"
     ]
    }
   ],
   "source": [
    "def reporteGeneral(destino, *minutos, **reserva):\n",
    "    main_report = f\"\"\"\n",
    "    Mission to {destino}\n",
    "    Total travel time: {sum(minutos)} minutos\n",
    "    Total fuel left: {sum(reserva.values())}\n",
    "    \"\"\"\n",
    "    for tank_name, gallons in reserva.items():\n",
    "        main_report += f\"{tank_name} tank --> {gallons} gallons left\\n\"\n",
    "    return main_report\n",
    "\n",
    "print(mission_report(\"Moon\", 8, 11, 55, main=300000, external=200000))"
   ]
  }
 ],
 "metadata": {
  "interpreter": {
   "hash": "e6fad8134df9e5d8b8d6d65c861d5f535ad48201ee3e73e4438a263582efefbc"
  },
  "kernelspec": {
   "display_name": "Python 3.10.2 64-bit",
   "language": "python",
   "name": "python3"
  },
  "language_info": {
   "codemirror_mode": {
    "name": "ipython",
    "version": 3
   },
   "file_extension": ".py",
   "mimetype": "text/x-python",
   "name": "python",
   "nbconvert_exporter": "python",
   "pygments_lexer": "ipython3",
   "version": "3.10.2"
  },
  "orig_nbformat": 4
 },
 "nbformat": 4,
 "nbformat_minor": 2
}
