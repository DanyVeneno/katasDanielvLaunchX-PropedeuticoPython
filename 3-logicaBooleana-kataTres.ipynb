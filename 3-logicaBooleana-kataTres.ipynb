{
 "cells": [
  {
   "cell_type": "markdown",
   "metadata": {},
   "source": [
    "# Declaraciones if, else, y elif"
   ]
  },
  {
   "cell_type": "code",
   "execution_count": 1,
   "metadata": {},
   "outputs": [
    {
     "name": "stdout",
     "output_type": "stream",
     "text": [
      "agua\n"
     ]
    }
   ],
   "source": [
    "x = \"cafe\"\n",
    "y = \"agua\"\n",
    "if x != y:\n",
    "    print(y)"
   ]
  },
  {
   "cell_type": "code",
   "execution_count": 2,
   "metadata": {},
   "outputs": [
    {
     "name": "stdout",
     "output_type": "stream",
     "text": [
      "z: Es un numero x: Es Cafe y: Es Agua y a: Es Cerveza\n"
     ]
    }
   ],
   "source": [
    "x = \"cafe\"\n",
    "y = \"agua\"\n",
    "z = \"35\"\n",
    "a = \"cerveza\"\n",
    "if x == y:\n",
    "    print(z)\n",
    "    if z != x + y:\n",
    "        print(\"z es un numero por eso es diferente\")\n",
    "    else:\n",
    "         \n",
    "        print(\"son diferente tipo de argumento\")\n",
    "elif z == x + y:\n",
    "    print(\"son diferentes\")\n",
    "else:\n",
    "    print(\"z: Es un numero x: Es Cafe y: Es Agua y a: Es Cerveza\")\n"
   ]
  },
  {
   "cell_type": "code",
   "execution_count": 5,
   "metadata": {},
   "outputs": [
    {
     "name": "stdout",
     "output_type": "stream",
     "text": [
      "Recuerden que si un asteroide entra a la atmosfera de la tierra  vamos a poder identificar si alcanzamos a ver un rayo de luz\n",
      "si la velocidad del asteroide es menor a los 19Kms/s no hay problema, sigue en tu amaca disfrutando del sol la brisa y tu cerveza.\n"
     ]
    }
   ],
   "source": [
    "x = 49\n",
    "y = 25\n",
    "z = 19\n",
    "if x >= y:\n",
    "    print(\"Recuerden que si un asteroide entra a la atmosfera de la tierra  vamos a poder identificar si alcanzamos a ver un rayo de luz\")\n",
    "    if x > y:\n",
    "        print (\"si la velocidad del asteroide es menor a los 19Kms/s no hay problema, sigue en tu amaca disfrutando del sol la brisa y tu cerveza.\")\n",
    "    else:\n",
    "        z < x - y\n",
    "        print(\"Estar atentos registramos un asteroide que viaja a 19Kms/s \")\n"
   ]
  },
  {
   "cell_type": "code",
   "execution_count": 7,
   "metadata": {},
   "outputs": [
    {
     "name": "stdout",
     "output_type": "stream",
     "text": [
      "Advertencia un asteroide se acerca demasiado rapido, Hay una luz en el cielo recuerden lo del rayo de luz \n",
      "Corramos a la casa de Musk para abandonar el planeta.\n"
     ]
    }
   ],
   "source": [
    "x = 49\n",
    "y = 25\n",
    "a = 19\n",
    "if x > y:\n",
    "   print(\"Advertencia un asteroide se acerca demasiado rapido, Hay una luz en el cielo recuerden lo del rayo de luz \")\n",
    "\n",
    "elif a > y :\n",
    "     print(\"si rebasa la velocidad indicada hay que usar bloqueador solar los rayos uv pueden aumentar\")\n",
    "else:\n",
    "  z > y >= a\n",
    "print(\"Corramos a la casa de Musk para abandonar el planeta.\")\n",
    "\n",
    "\n",
    "\n"
   ]
  }
 ],
 "metadata": {
  "interpreter": {
   "hash": "e6fad8134df9e5d8b8d6d65c861d5f535ad48201ee3e73e4438a263582efefbc"
  },
  "kernelspec": {
   "display_name": "Python 3.10.2 64-bit",
   "language": "python",
   "name": "python3"
  },
  "language_info": {
   "codemirror_mode": {
    "name": "ipython",
    "version": 3
   },
   "file_extension": ".py",
   "mimetype": "text/x-python",
   "name": "python",
   "nbconvert_exporter": "python",
   "pygments_lexer": "ipython3",
   "version": "3.10.2"
  },
  "orig_nbformat": 4
 },
 "nbformat": 4,
 "nbformat_minor": 2
}
